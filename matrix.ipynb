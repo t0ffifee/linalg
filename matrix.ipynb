{
 "cells": [
  {
   "cell_type": "code",
   "execution_count": 2,
   "metadata": {},
   "outputs": [],
   "source": [
    "import numpy as np\n",
    "from random import randint"
   ]
  },
  {
   "cell_type": "code",
   "execution_count": 1,
   "metadata": {},
   "outputs": [],
   "source": [
    "# this can be improved with the operator module\n",
    "def operation(a, b, operator):\n",
    "    rows, cols = len(a), len(a[0])\n",
    "    res = [[0 for _ in range(cols)] for _ in range(rows)]\n",
    "    for r_i in range(rows):\n",
    "        for c_i in range(cols):\n",
    "            if operator == '*':\n",
    "                el = a[r_i][c_i] * b[r_i][c_i]\n",
    "            elif operator == '/':\n",
    "                el = a[r_i][c_i] / b[r_i][c_i]\n",
    "            elif operator == '+':\n",
    "                el = a[r_i][c_i] + b[r_i][c_i]\n",
    "            else:\n",
    "                el = a[r_i][c_i] - b[r_i][c_i]\n",
    "            res[r_i][c_i] = el\n",
    "    return res\n",
    "\n",
    "def dot(a, b):\n",
    "    rows_a, cols_b = len(a), len(b[0])\n",
    "    if rows_a != cols_b:\n",
    "        print('impossible combination')\n",
    "        return\n",
    "    res = [[0 for _ in range(cols_b)] for _ in range(rows_a)]\n",
    "    r, c = 0, 0\n",
    "    for r in range(rows_a):\n",
    "        for c in range(cols_b):\n",
    "            row, col = a[r], [el[c] for el in b]\n",
    "            el = sum(el_r*el_c for el_r,el_c in zip(row, col))\n",
    "            res[r][c] = el  \n",
    "    return res\n",
    "\n",
    "def inner_product(a, b):\n",
    "    products = [x*y for x,y in zip(a,b)]\n",
    "    return sum(products)\n",
    "\n",
    "def print_matrix(m):\n",
    "    for r in m:\n",
    "        for c in r:\n",
    "            print(c, end=' ')\n",
    "        print()\n",
    "\n",
    "def rand_matrix(x, y):\n",
    "    matrix = [[randint(1,9) for _ in range(x)] for _ in range(y)]\n",
    "    return matrix\n",
    "\n"
   ]
  },
  {
   "cell_type": "code",
   "execution_count": 57,
   "metadata": {},
   "outputs": [
    {
     "name": "stdout",
     "output_type": "stream",
     "text": [
      "56 3 30 \n",
      "45 35 27 \n",
      "49 32 9 \n",
      "125 46 50 \n",
      "166 76 55 \n",
      "191 83 68 \n",
      "[[125  46  50]\n",
      " [166  76  55]\n",
      " [191  83  68]]\n"
     ]
    }
   ],
   "source": [
    "A = rand_matrix(3,3)\n",
    "B = rand_matrix(3,3)\n",
    "np_A = np.array(A)\n",
    "np_B = np.array(B)\n",
    "\n",
    "\n",
    "print_matrix(operation(A, B, '*'))\n",
    "print_matrix(dot(A, B))\n",
    "\n",
    "print(np_A.dot(np_B))\n"
   ]
  }
 ],
 "metadata": {
  "interpreter": {
   "hash": "916dbcbb3f70747c44a77c7bcd40155683ae19c65e1c03b4aa3499c5328201f1"
  },
  "kernelspec": {
   "display_name": "Python 3.8.10 64-bit",
   "language": "python",
   "name": "python3"
  },
  "language_info": {
   "codemirror_mode": {
    "name": "ipython",
    "version": 3
   },
   "file_extension": ".py",
   "mimetype": "text/x-python",
   "name": "python",
   "nbconvert_exporter": "python",
   "pygments_lexer": "ipython3",
   "version": "3.8.10"
  },
  "orig_nbformat": 4
 },
 "nbformat": 4,
 "nbformat_minor": 2
}
