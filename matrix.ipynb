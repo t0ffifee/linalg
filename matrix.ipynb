{
 "cells": [
  {
   "cell_type": "code",
   "execution_count": 43,
   "metadata": {},
   "outputs": [],
   "source": [
    "import numpy as np\n",
    "from matrix import *"
   ]
  },
  {
   "cell_type": "code",
   "execution_count": 57,
   "metadata": {},
   "outputs": [
    {
     "name": "stdout",
     "output_type": "stream",
     "text": [
      "56 3 30 \n",
      "45 35 27 \n",
      "49 32 9 \n",
      "125 46 50 \n",
      "166 76 55 \n",
      "191 83 68 \n",
      "[[125  46  50]\n",
      " [166  76  55]\n",
      " [191  83  68]]\n"
     ]
    }
   ],
   "source": [
    "A = rand_matrix(3,3)\n",
    "B = rand_matrix(3,3)\n",
    "np_A = np.array(A)\n",
    "np_B = np.array(B)\n",
    "\n",
    "\n",
    "print_matrix(operation(A, B, '*'))\n",
    "print_matrix(dot(A, B))\n",
    "\n",
    "print(np_A.dot(np_B))\n"
   ]
  }
 ],
 "metadata": {
  "interpreter": {
   "hash": "916dbcbb3f70747c44a77c7bcd40155683ae19c65e1c03b4aa3499c5328201f1"
  },
  "kernelspec": {
   "display_name": "Python 3.8.10 64-bit",
   "language": "python",
   "name": "python3"
  },
  "language_info": {
   "codemirror_mode": {
    "name": "ipython",
    "version": 3
   },
   "file_extension": ".py",
   "mimetype": "text/x-python",
   "name": "python",
   "nbconvert_exporter": "python",
   "pygments_lexer": "ipython3",
   "version": "3.8.10"
  },
  "orig_nbformat": 4
 },
 "nbformat": 4,
 "nbformat_minor": 2
}
