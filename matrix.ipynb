{
 "cells": [
  {
   "cell_type": "code",
   "execution_count": 2,
   "metadata": {},
   "outputs": [],
   "source": [
    "import numpy as np"
   ]
  },
  {
   "cell_type": "code",
   "execution_count": 19,
   "metadata": {},
   "outputs": [],
   "source": [
    "x_arr = [[1,2,3],[4,5,6],[7,8,9]]\n",
    "y_arr = [[2,2,2],[2,2,2],[2,2,2]]\n",
    "x = np.array(x_arr)\n",
    "y = np.array(y_arr)"
   ]
  },
  {
   "cell_type": "code",
   "execution_count": 41,
   "metadata": {},
   "outputs": [
    {
     "data": {
      "text/plain": [
       "[[3, 4, 5], [6, 7, 8], [9, 10, 11]]"
      ]
     },
     "execution_count": 41,
     "metadata": {},
     "output_type": "execute_result"
    }
   ],
   "source": [
    "def operation(x, y, operator):\n",
    "    rows, cols = len(x), len(x[0])\n",
    "    res = [[0 for _ in range(cols)] for _ in range(rows)]\n",
    "    for r_i in range(rows):\n",
    "        for c_i in range(cols):\n",
    "            if operator == '*':\n",
    "                el = x[r_i][c_i] * y[r_i][c_i]\n",
    "            elif operator == '/':\n",
    "                el = x[r_i][c_i] / y[r_i][c_i]\n",
    "            elif operator == '+':\n",
    "                el = x[r_i][c_i] + y[r_i][c_i]\n",
    "            else:\n",
    "                el = x[r_i][c_i] - y[r_i][c_i]\n",
    "            res[r_i][c_i] = el\n",
    "    return res\n",
    "\n",
    "operation(x_arr, y_arr, '+')"
   ]
  },
  {
   "cell_type": "code",
   "execution_count": 57,
   "metadata": {},
   "outputs": [
    {
     "name": "stdout",
     "output_type": "stream",
     "text": [
      "[[24, 30, 36], [24, 30, 36], [24, 30, 36]]\n"
     ]
    },
    {
     "data": {
      "text/plain": [
       "array([[24, 30, 36],\n",
       "       [24, 30, 36],\n",
       "       [24, 30, 36]])"
      ]
     },
     "execution_count": 57,
     "metadata": {},
     "output_type": "execute_result"
    }
   ],
   "source": [
    "def dot(x,y):\n",
    "    cols_x, rows_y = len(x[0]), len(y)\n",
    "    if cols_x != rows_y:\n",
    "        print('impossible combination')\n",
    "        return\n",
    "    res = [[0 for _ in range(cols_x)] for _ in range(rows_y)]\n",
    "    r, c = 0, 0\n",
    "    for r in range(rows_y):\n",
    "        for c in range(cols_x):\n",
    "            row, col = x[r], [el[c] for el in y]\n",
    "            el = sum(el_r*el_c for el_r,el_c in zip(row, col))\n",
    "            res[r][c] = el\n",
    "    return res\n",
    "\n",
    "print(dot(y_arr, x_arr))\n",
    "y.dot(x)"
   ]
  },
  {
   "cell_type": "code",
   "execution_count": 50,
   "metadata": {},
   "outputs": [
    {
     "data": {
      "text/plain": [
       "30"
      ]
     },
     "execution_count": 50,
     "metadata": {},
     "output_type": "execute_result"
    }
   ],
   "source": [
    "a = [1,2,3]\n",
    "b = [5,5,5]\n",
    "sum([x*y for x,y in zip(a,b)])"
   ]
  }
 ],
 "metadata": {
  "interpreter": {
   "hash": "916dbcbb3f70747c44a77c7bcd40155683ae19c65e1c03b4aa3499c5328201f1"
  },
  "kernelspec": {
   "display_name": "Python 3.8.10 64-bit",
   "language": "python",
   "name": "python3"
  },
  "language_info": {
   "codemirror_mode": {
    "name": "ipython",
    "version": 3
   },
   "file_extension": ".py",
   "mimetype": "text/x-python",
   "name": "python",
   "nbconvert_exporter": "python",
   "pygments_lexer": "ipython3",
   "version": "3.8.10"
  },
  "orig_nbformat": 4
 },
 "nbformat": 4,
 "nbformat_minor": 2
}
