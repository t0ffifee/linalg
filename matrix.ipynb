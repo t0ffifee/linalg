{
 "cells": [
  {
   "cell_type": "code",
   "execution_count": 1,
   "metadata": {},
   "outputs": [],
   "source": [
    "import numpy as np"
   ]
  },
  {
   "cell_type": "code",
   "execution_count": 45,
   "metadata": {},
   "outputs": [],
   "source": [
    "\n",
    "\n",
    "a_arr = [[5,3,2],[4,6,5],[7,9,6]]\n",
    "b_arr = [[2,2,2],[2,2,2],[2,2,2]]\n",
    "a = np.array(a_arr)\n",
    "b = np.array(b_arr)\n",
    "\n",
    "def dot(a, b):\n",
    "    rows_a, cols_b = len(a), len(b[0])\n",
    "    if rows_a != cols_b:\n",
    "        print('impossible combination')\n",
    "        return\n",
    "    res = [[0 for _ in range(cols_b)] for _ in range(rows_a)]\n",
    "    r, c = 0, 0\n",
    "    for r in range(rows_a):\n",
    "        for c in range(cols_b):\n",
    "            row, col = a[r], [el[c] for el in b]\n",
    "            el = sum(el_r*el_c for el_r,el_c in zip(row, col))\n",
    "            res[r][c] = el  \n",
    "    return res\n",
    "\n",
    "# print(dot(a_arr, b_arr))\n",
    "# np.matmul(a, b)\n",
    "# a @ b"
   ]
  }
 ],
 "metadata": {
  "interpreter": {
   "hash": "916dbcbb3f70747c44a77c7bcd40155683ae19c65e1c03b4aa3499c5328201f1"
  },
  "kernelspec": {
   "display_name": "Python 3.8.10 64-bit",
   "language": "python",
   "name": "python3"
  },
  "language_info": {
   "codemirror_mode": {
    "name": "ipython",
    "version": 3
   },
   "file_extension": ".py",
   "mimetype": "text/x-python",
   "name": "python",
   "nbconvert_exporter": "python",
   "pygments_lexer": "ipython3",
   "version": "3.8.10"
  },
  "orig_nbformat": 4
 },
 "nbformat": 4,
 "nbformat_minor": 2
}
